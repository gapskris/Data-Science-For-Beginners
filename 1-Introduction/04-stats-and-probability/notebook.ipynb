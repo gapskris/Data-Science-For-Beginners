{
  "cells": [
    {
      "cell_type": "markdown",
      "metadata": {
        "id": "view-in-github",
        "colab_type": "text"
      },
      "source": [
        "<a href=\"https://colab.research.google.com/github/Jmackalister/Data-Science-For-Beginners/blob/main/1-Introduction/04-stats-and-probability/notebook.ipynb\" target=\"_parent\"><img src=\"https://colab.research.google.com/assets/colab-badge.svg\" alt=\"Open In Colab\"/></a>"
      ]
    },
    {
      "cell_type": "markdown",
      "metadata": {
        "id": "_Y4qMLCvIUWs"
      },
      "source": [
        "# Introduction to Probability and Statistics\n",
        "In this notebook, we will play around with some of the concepts we have previously discussed. Many concepts from probability and statistics are well-represented in major libraries for data processing in Python, such as `numpy` and `pandas`."
      ]
    },
    {
      "cell_type": "code",
      "execution_count": 1,
      "metadata": {
        "id": "0bQAocM4IUWu"
      },
      "outputs": [],
      "source": [
        "import numpy as np\n",
        "import pandas as pd\n",
        "import random\n",
        "import matplotlib.pyplot as plt"
      ]
    },
    {
      "cell_type": "markdown",
      "metadata": {
        "id": "f4Fqa0ZYIUWw"
      },
      "source": [
        "## Random Variables and Distributions\n",
        "Let's start with drawing a sample of 30 values from a uniform distribution from 0 to 9. We will also compute mean and variance."
      ]
    },
    {
      "cell_type": "code",
      "execution_count": 2,
      "metadata": {
        "colab": {
          "base_uri": "https://localhost:8080/"
        },
        "id": "Bk0zaHH9IUWx",
        "outputId": "b93f7f1e-37b3-43c7-88eb-c15849873765"
      },
      "outputs": [
        {
          "output_type": "stream",
          "name": "stdout",
          "text": [
            "Sample: [6, 9, 1, 4, 7, 8, 10, 6, 1, 5, 9, 5, 2, 7, 6, 3, 7, 6, 7, 2, 2, 4, 3, 0, 4, 1, 2, 2, 7, 5]\n",
            "Mean = 4.7\n",
            "Variance = 7.21\n"
          ]
        }
      ],
      "source": [
        "sample = [ random.randint(0,10) for _ in range(30) ]\n",
        "print(f\"Sample: {sample}\")\n",
        "print(f\"Mean = {np.mean(sample)}\")\n",
        "print(f\"Variance = {np.var(sample)}\")"
      ]
    },
    {
      "cell_type": "markdown",
      "metadata": {
        "id": "fA1CKbxDIUWz"
      },
      "source": [
        "To visually estimate how many different values are there in the sample, we can plot the **histogram**:"
      ]
    },
    {
      "cell_type": "code",
      "execution_count": 3,
      "metadata": {
        "colab": {
          "base_uri": "https://localhost:8080/",
          "height": 430
        },
        "id": "GdDQqV5SIUWz",
        "outputId": "641584af-900d-459e-aba5-9bc6a9441a30"
      },
      "outputs": [
        {
          "output_type": "display_data",
          "data": {
            "text/plain": [
              "<Figure size 640x480 with 1 Axes>"
            ],
            "image/png": "[encoded data removed]"
          },
          "metadata": {}
        }
      ],
      "source": [
        "plt.hist(sample)\n",
        "plt.show()"
      ]
    },
    {
      "cell_type": "markdown",
      "metadata": {
        "id": "dTc8xEMzIUW0"
      },
      "source": [
        "## Analyzing Real Data\n",
        "\n",
        "Mean and variance are very important when analyzing real-world data. Let's load the data about baseball players from [SOCR MLB Height/Weight Data](http://wiki.stat.ucla.edu/socr/index.php/SOCR_Data_MLB_HeightsWeights)"
      ]
    },
    {
      "cell_type": "code",
      "execution_count": 5,
      "metadata": {
        "colab": {
          "base_uri": "https://localhost:8080/",
          "height": 424
        },
        "id": "NgKHBG1-IUW1",
        "outputId": "decd310d-8511-487e-ed1e-3ea46069474a"
      },
      "outputs": [
        {
          "output_type": "execute_result",
          "data": {
            "text/plain": [
              "                 Name Team            Role  Height  Weight    Age\n",
              "0       Adam_Donachie  BAL         Catcher      74   180.0  22.99\n",
              "1           Paul_Bako  BAL         Catcher      74   215.0  34.69\n",
              "2     Ramon_Hernandez  BAL         Catcher      72   210.0  30.78\n",
              "3        Kevin_Millar  BAL   First_Baseman      72   210.0  35.43\n",
              "4         Chris_Gomez  BAL   First_Baseman      73   188.0  35.71\n",
              "...               ...  ...             ...     ...     ...    ...\n",
              "1029    Brad_Thompson  STL  Relief_Pitcher      73   190.0  25.08\n",
              "1030    Tyler_Johnson  STL  Relief_Pitcher      74   180.0  25.73\n",
              "1031   Chris_Narveson  STL  Relief_Pitcher      75   205.0  25.19\n",
              "1032    Randy_Keisler  STL  Relief_Pitcher      75   190.0  31.01\n",
              "1033      Josh_Kinney  STL  Relief_Pitcher      73   195.0  27.92\n",
              "\n",
              "[1034 rows x 6 columns]"
            ],
            "text/html": [
              "\n",
              "  <div id=\"df-57623141-ac63-4fa1-a618-f84a83690c80\" class=\"colab-df-container\">\n",
              "    <div>\n",
              "<style scoped>\n",
              "    .dataframe tbody tr th:only-of-type {\n",
              "        vertical-align: middle;\n",
              "    }\n",
              "\n",
              "    .dataframe tbody tr th {\n",
              "        vertical-align: top;\n",
              "    }\n",
              "\n",
              "    .dataframe thead th {\n",
              "        text-align: right;\n",
              "    }\n",
              "</style>\n",
              "<table border=\"1\" class=\"dataframe\">\n",
              "  <thead>\n",
              "    <tr style=\"text-align: right;\">\n",
              "      <th></th>\n",
              "      <th>Name</th>\n",
              "      <th>Team</th>\n",
              "      <th>Role</th>\n",
              "      <th>Height</th>\n",
              "      <th>Weight</th>\n",
              "      <th>Age</th>\n",
              "    </tr>\n",
              "  </thead>\n",
              "  <tbody>\n",
              "    <tr>\n",
              "      <th>0</th>\n",
              "      <td>Adam_Donachie</td>\n",
              "      <td>BAL</td>\n",
              "      <td>Catcher</td>\n",
              "      <td>74</td>\n",
              "      <td>180.0</td>\n",
              "      <td>22.99</td>\n",
              "    </tr>\n",
              "    <tr>\n",
              "      <th>1</th>\n",
              "      <td>Paul_Bako</td>\n",
              "      <td>BAL</td>\n",
              "      <td>Catcher</td>\n",
              "      <td>74</td>\n",
              "      <td>215.0</td>\n",
              "      <td>34.69</td>\n",
              "    </tr>\n",
              "    <tr>\n",
              "      <th>2</th>\n",
              "      <td>Ramon_Hernandez</td>\n",
              "      <td>BAL</td>\n",
              "      <td>Catcher</td>\n",
              "      <td>72</td>\n",
              "      <td>210.0</td>\n",
              "      <td>30.78</td>\n",
              "    </tr>\n",
              "    <tr>\n",
              "      <th>3</th>\n",
              "      <td>Kevin_Millar</td>\n",
              "      <td>BAL</td>\n",
              "      <td>First_Baseman</td>\n",
              "      <td>72</td>\n",
              "      <td>210.0</td>\n",
              "      <td>35.43</td>\n",
              "    </tr>\n",
              "    <tr>\n",
              "      <th>4</th>\n",
              "      <td>Chris_Gomez</td>\n",
              "      <td>BAL</td>\n",
              "      <td>First_Baseman</td>\n",
              "      <td>73</td>\n",
              "      <td>188.0</td>\n",
              "      <td>35.71</td>\n",
              "    </tr>\n",
              "    <tr>\n",
              "      <th>...</th>\n",
              "      <td>...</td>\n",
              "      <td>...</td>\n",
              "      <td>...</td>\n",
              "      <td>...</td>\n",
              "      <td>...</td>\n",
              "      <td>...</td>\n",
              "    </tr>\n",
              "    <tr>\n",
              "      <th>1029</th>\n",
              "      <td>Brad_Thompson</td>\n",
              "      <td>STL</td>\n",
              "      <td>Relief_Pitcher</td>\n",
              "      <td>73</td>\n",
              "      <td>190.0</td>\n",
              "      <td>25.08</td>\n",
              "    </tr>\n",
              "    <tr>\n",
              "      <th>1030</th>\n",
              "      <td>Tyler_Johnson</td>\n",
              "      <td>STL</td>\n",
              "      <td>Relief_Pitcher</td>\n",
              "      <td>74</td>\n",
              "      <td>180.0</td>\n",
              "      <td>25.73</td>\n",
              "    </tr>\n",
              "    <tr>\n",
              "      <th>1031</th>\n",
              "      <td>Chris_Narveson</td>\n",
              "      <td>STL</td>\n",
              "      <td>Relief_Pitcher</td>\n",
              "      <td>75</td>\n",
              "      <td>205.0</td>\n",
              "      <td>25.19</td>\n",
              "    </tr>\n",
              "    <tr>\n",
              "      <th>1032</th>\n",
              "      <td>Randy_Keisler</td>\n",
              "      <td>STL</td>\n",
              "      <td>Relief_Pitcher</td>\n",
              "      <td>75</td>\n",
              "      <td>190.0</td>\n",
              "      <td>31.01</td>\n",
              "    </tr>\n",
              "    <tr>\n",
              "      <th>1033</th>\n",
              "      <td>Josh_Kinney</td>\n",
              "      <td>STL</td>\n",
              "      <td>Relief_Pitcher</td>\n",
              "      <td>73</td>\n",
              "      <td>195.0</td>\n",
              "      <td>27.92</td>\n",
              "    </tr>\n",
              "  </tbody>\n",
              "</table>\n",
              "<p>1034 rows × 6 columns</p>\n",
              "</div>\n",
              "    <div class=\"colab-df-buttons\">\n",
              "\n",
              "  <div class=\"colab-df-container\">\n",
              "    <button class=\"colab-df-convert\" onclick=\"convertToInteractive('df-57623141-ac63-4fa1-a618-f84a83690c80')\"\n",
              "            title=\"Convert this dataframe to an interactive table.\"\n",
              "            style=\"display:none;\">\n",
              "\n",
              "  <svg xmlns=\"http://www.w3.org/2000/svg\" height=\"24px\" viewBox=\"0 -960 960 960\">\n",
              "    <path d=\"M120-120v-720h720v720H120Zm60-500h600v-160H180v160Zm220 220h160v-160H400v160Zm0 220h160v-160H400v160ZM180-400h160v-160H180v160Zm440 0h160v-160H620v160ZM180-180h160v-160H180v160Zm440 0h160v-160H620v160Z\"/>\n",
              "  </svg>\n",
              "    </button>\n",
              "\n",
              "  <style>\n",
              "    .colab-df-container {\n",
              "      display:flex;\n",
              "      gap: 12px;\n",
              "    }\n",
              "\n",
              "    .colab-df-convert {\n",
              "      background-color: #E8F0FE;\n",
              "      border: none;\n",
              "      border-radius: 50%;\n",
              "      cursor: pointer;\n",
              "      display: none;\n",
              "      fill: #1967D2;\n",
              "      height: 32px;\n",
              "      padding: 0 0 0 0;\n",
              "      width: 32px;\n",
              "    }\n",
              "\n",
              "    .colab-df-convert:hover {\n",
              "      background-color: #E2EBFA;\n",
              "      box-shadow: 0px 1px 2px rgba(60, 64, 67, 0.3), 0px 1px 3px 1px rgba(60, 64, 67, 0.15);\n",
              "      fill: #174EA6;\n",
              "    }\n",
              "\n",
              "    .colab-df-buttons div {\n",
              "      margin-bottom: 4px;\n",
              "    }\n",
              "\n",
              "    [theme=dark] .colab-df-convert {\n",
              "      background-color: #3B4455;\n",
              "      fill: #D2E3FC;\n",
              "    }\n",
              "\n",
              "    [theme=dark] .colab-df-convert:hover {\n",
              "      background-color: #434B5C;\n",
              "      box-shadow: 0px 1px 3px 1px rgba(0, 0, 0, 0.15);\n",
              "      filter: drop-shadow(0px 1px 2px rgba(0, 0, 0, 0.3));\n",
              "      fill: #FFFFFF;\n",
              "    }\n",
              "  </style>\n",
              "\n",
              "    <script>\n",
              "      const buttonEl =\n",
              "        document.querySelector('#df-57623141-ac63-4fa1-a618-f84a83690c80 button.colab-df-convert');\n",
              "      buttonEl.style.display =\n",
              "        google.colab.kernel.accessAllowed ? 'block' : 'none';\n",
              "\n",
              "      async function convertToInteractive(key) {\n",
              "        const element = document.querySelector('#df-57623141-ac63-4fa1-a618-f84a83690c80');\n",
              "        const dataTable =\n",
              "          await google.colab.kernel.invokeFunction('convertToInteractive',\n",
              "                                                    [key], {});\n",
              "        if (!dataTable) return;\n",
              "\n",
              "        const docLinkHtml = 'Like what you see? Visit the ' +\n",
              "          '<a target=\"_blank\" href=https://colab.research.google.com/notebooks/data_table.ipynb>data table notebook</a>'\n",
              "          + ' to learn more about interactive tables.';\n",
              "        element.innerHTML = '';\n",
              "        dataTable['output_type'] = 'display_data';\n",
              "        await google.colab.output.renderOutput(dataTable, element);\n",
              "        const docLink = document.createElement('div');\n",
              "        docLink.innerHTML = docLinkHtml;\n",
              "        element.appendChild(docLink);\n",
              "      }\n",
              "    </script>\n",
              "  </div>\n",
              "\n",
              "\n",
              "<div id=\"df-6631d6f7-ef61-4744-bbbb-2036b8ac86af\">\n",
              "  <button class=\"colab-df-quickchart\" onclick=\"quickchart('df-6631d6f7-ef61-4744-bbbb-2036b8ac86af')\"\n",
              "            title=\"Suggest charts.\"\n",
              "            style=\"display:none;\">\n",
              "\n",
              "<svg xmlns=\"http://www.w3.org/2000/svg\" height=\"24px\"viewBox=\"0 0 24 24\"\n",
              "     width=\"24px\">\n",
              "    <g>\n",
              "        <path d=\"M19 3H5c-1.1 0-2 .9-2 2v14c0 1.1.9 2 2 2h14c1.1 0 2-.9 2-2V5c0-1.1-.9-2-2-2zM9 17H7v-7h2v7zm4 0h-2V7h2v10zm4 0h-2v-4h2v4z\"/>\n",
              "    </g>\n",
              "</svg>\n",
              "  </button>\n",
              "\n",
              "<style>\n",
              "  .colab-df-quickchart {\n",
              "      --bg-color: #E8F0FE;\n",
              "      --fill-color: #1967D2;\n",
              "      --hover-bg-color: #E2EBFA;\n",
              "      --hover-fill-color: #174EA6;\n",
              "      --disabled-fill-color: #AAA;\n",
              "      --disabled-bg-color: #DDD;\n",
              "  }\n",
              "\n",
              "  [theme=dark] .colab-df-quickchart {\n",
              "      --bg-color: #3B4455;\n",
              "      --fill-color: #D2E3FC;\n",
              "      --hover-bg-color: #434B5C;\n",
              "      --hover-fill-color: #FFFFFF;\n",
              "      --disabled-bg-color: #3B4455;\n",
              "      --disabled-fill-color: #666;\n",
              "  }\n",
              "\n",
              "  .colab-df-quickchart {\n",
              "    background-color: var(--bg-color);\n",
              "    border: none;\n",
              "    border-radius: 50%;\n",
              "    cursor: pointer;\n",
              "    display: none;\n",
              "    fill: var(--fill-color);\n",
              "    height: 32px;\n",
              "    padding: 0;\n",
              "    width: 32px;\n",
              "  }\n",
              "\n",
              "  .colab-df-quickchart:hover {\n",
              "    background-color: var(--hover-bg-color);\n",
              "    box-shadow: 0 1px 2px rgba(60, 64, 67, 0.3), 0 1px 3px 1px rgba(60, 64, 67, 0.15);\n",
              "    fill: var(--button-hover-fill-color);\n",
              "  }\n",
              "\n",
              "  .colab-df-quickchart-complete:disabled,\n",
              "  .colab-df-quickchart-complete:disabled:hover {\n",
              "    background-color: var(--disabled-bg-color);\n",
              "    fill: var(--disabled-fill-color);\n",
              "    box-shadow: none;\n",
              "  }\n",
              "\n",
              "  .colab-df-spinner {\n",
              "    border: 2px solid var(--fill-color);\n",
              "    border-color: transparent;\n",
              "    border-bottom-color: var(--fill-color);\n",
              "    animation:\n",
              "      spin 1s steps(1) infinite;\n",
              "  }\n",
              "\n",
              "  @keyframes spin {\n",
              "    0% {\n",
              "      border-color: transparent;\n",
              "      border-bottom-color: var(--fill-color);\n",
              "      border-left-color: var(--fill-color);\n",
              "    }\n",
              "    20% {\n",
              "      border-color: transparent;\n",
              "      border-left-color: var(--fill-color);\n",
              "      border-top-color: var(--fill-color);\n",
              "    }\n",
              "    30% {\n",
              "      border-color: transparent;\n",
              "      border-left-color: var(--fill-color);\n",
              "      border-top-color: var(--fill-color);\n",
              "      border-right-color: var(--fill-color);\n",
              "    }\n",
              "    40% {\n",
              "      border-color: transparent;\n",
              "      border-right-color: var(--fill-color);\n",
              "      border-top-color: var(--fill-color);\n",
              "    }\n",
              "    60% {\n",
              "      border-color: transparent;\n",
              "      border-right-color: var(--fill-color);\n",
              "    }\n",
              "    80% {\n",
              "      border-color: transparent;\n",
              "      border-right-color: var(--fill-color);\n",
              "      border-bottom-color: var(--fill-color);\n",
              "    }\n",
              "    90% {\n",
              "      border-color: transparent;\n",
              "      border-bottom-color: var(--fill-color);\n",
              "    }\n",
              "  }\n",
              "</style>\n",
              "\n",
              "  <script>\n",
              "    async function quickchart(key) {\n",
              "      const quickchartButtonEl =\n",
              "        document.querySelector('#' + key + ' button');\n",
              "      quickchartButtonEl.disabled = true;  // To prevent multiple clicks.\n",
              "      quickchartButtonEl.classList.add('colab-df-spinner');\n",
              "      try {\n",
              "        const charts = await google.colab.kernel.invokeFunction(\n",
              "            'suggestCharts', [key], {});\n",
              "      } catch (error) {\n",
              "        console.error('Error during call to suggestCharts:', error);\n",
              "      }\n",
              "      quickchartButtonEl.classList.remove('colab-df-spinner');\n",
              "      quickchartButtonEl.classList.add('colab-df-quickchart-complete');\n",
              "    }\n",
              "    (() => {\n",
              "      let quickchartButtonEl =\n",
              "        document.querySelector('#df-6631d6f7-ef61-4744-bbbb-2036b8ac86af button');\n",
              "      quickchartButtonEl.style.display =\n",
              "        google.colab.kernel.accessAllowed ? 'block' : 'none';\n",
              "    })();\n",
              "  </script>\n",
              "</div>\n",
              "    </div>\n",
              "  </div>\n"
            ]
          },
          "metadata": {},
          "execution_count": 5
        }
      ],
      "source": [
        "df = pd.read_csv(\"https://raw.githubusercontent.com/Jmackalister/Data-Science-For-Beginners/main/data/SOCR_MLB.tsv\",sep='\\t', header=None, names=['Name','Team','Role','Height','Weight','Age'])\n",
        "df"
      ]
    },
    {
      "cell_type": "markdown",
      "metadata": {
        "id": "yGT7sgCCIUW1"
      },
      "source": [
        "> We are using a package called [**Pandas**](https://pandas.pydata.org/) here for data analysis. We will talk more about Pandas and working with data in Python later in this course.\n",
        "\n",
        "Let's compute average values for age, height and weight:"
      ]
    },
    {
      "cell_type": "code",
      "execution_count": 6,
      "metadata": {
        "colab": {
          "base_uri": "https://localhost:8080/"
        },
        "id": "TqTXzahpIUW3",
        "outputId": "46b5cbf3-3b5a-4532-ce77-3eca8f44afad"
      },
      "outputs": [
        {
          "output_type": "execute_result",
          "data": {
            "text/plain": [
              "Age        28.736712\n",
              "Height     73.697292\n",
              "Weight    201.689255\n",
              "dtype: float64"
            ]
          },
          "metadata": {},
          "execution_count": 6
        }
      ],
      "source": [
        "df[['Age','Height','Weight']].mean()"
      ]
    },
    {
      "cell_type": "markdown",
      "metadata": {
        "id": "f39ELsmyIUW4"
      },
      "source": [
        "Now let's focus on height, and compute standard deviation and variance:"
      ]
    },
    {
      "cell_type": "code",
      "execution_count": 7,
      "metadata": {
        "colab": {
          "base_uri": "https://localhost:8080/"
        },
        "id": "WqyT_O1ZIUW4",
        "outputId": "b4a8f094-be78-4c10-8561-e4ae845a2e92"
      },
      "outputs": [
        {
          "output_type": "stream",
          "name": "stdout",
          "text": [
            "[74, 74, 72, 72, 73, 69, 69, 71, 76, 71, 73, 73, 74, 74, 69, 70, 72, 73, 75, 78]\n"
          ]
        }
      ],
      "source": [
        "print(list(df['Height'])[:20])"
      ]
    },
    {
      "cell_type": "code",
      "execution_count": 8,
      "metadata": {
        "colab": {
          "base_uri": "https://localhost:8080/"
        },
        "id": "hIjGQv-0IUW6",
        "outputId": "e26ca71a-2697-46a0-f599-986f71b961e0"
      },
      "outputs": [
        {
          "output_type": "stream",
          "name": "stdout",
          "text": [
            "Mean = 73.6972920696325\n",
            "Variance = 5.316798081118074\n",
            "Standard Deviation = 2.3058183105175645\n"
          ]
        }
      ],
      "source": [
        "mean = df['Height'].mean()\n",
        "var = df['Height'].var()\n",
        "std = df['Height'].std()\n",
        "print(f\"Mean = {mean}\\nVariance = {var}\\nStandard Deviation = {std}\")"
      ]
    },
    {
      "cell_type": "markdown",
      "metadata": {
        "id": "_CtgdwXxIUW7"
      },
      "source": [
        "In addition to mean, it makes sense to look at the median value and quartiles. They can be visualized using a **box plot**:"
      ]
    },
    {
      "cell_type": "code",
      "execution_count": 9,
      "metadata": {
        "colab": {
          "base_uri": "https://localhost:8080/",
          "height": 207
        },
        "id": "GYjvNaCmIUW8",
        "outputId": "aabf89b5-3442-4ba8-f365-18a87bd8ab52"
      },
      "outputs": [
        {
          "output_type": "display_data",
          "data": {
            "text/plain": [
              "<Figure size 1000x200 with 1 Axes>"
            ],
            "image/png": "[encoded data removed]"
          },
          "metadata": {}
        }
      ],
      "source": [
        "plt.figure(figsize=(10,2))\n",
        "plt.boxplot(df['Height'], vert=False, showmeans=True)\n",
        "plt.grid(color='gray', linestyle='dotted')\n",
        "plt.tight_layout()\n",
        "plt.show()"
      ]
    },
    {
      "cell_type": "markdown",
      "metadata": {
        "id": "RqV-Mw1SIUW8"
      },
      "source": [
        "We can also make box plots of subsets of our dataset, for example, grouped by player role."
      ]
    },
    {
      "cell_type": "code",
      "execution_count": 10,
      "metadata": {
        "colab": {
          "base_uri": "https://localhost:8080/",
          "height": 806
        },
        "id": "TFRfrvyKIUW8",
        "outputId": "3c8c28e4-1788-4df4-9468-834e2e51e6e4"
      },
      "outputs": [
        {
          "output_type": "display_data",
          "data": {
            "text/plain": [
              "<Figure size 1000x800 with 1 Axes>"
            ],
            "image/png": "[encoded data removed]"
          },
          "metadata": {}
        }
      ],
      "source": [
        "df.boxplot(column='Height', by='Role', figsize=(10,8))\n",
        "plt.xticks(rotation='vertical')\n",
        "plt.tight_layout()\n",
        "plt.show()"
      ]
    },
    {
      "cell_type": "markdown",
      "metadata": {
        "id": "6XHFyajmIUW8"
      },
      "source": [
        "> **Note**: This diagram suggests, that on average, the heights of first basemen are higher than heights of second basemen. Later we will learn how we can test this hypothesis more formally, and how to demonstrate that our data is statistically significant to show that.  \n",
        "\n",
        "Age, height and weight are all continuous random variables. What do you think their distribution is? A good way to find out is to plot the histogram of values:"
      ]
    },
    {
      "cell_type": "code",
      "execution_count": 11,
      "metadata": {
        "colab": {
          "base_uri": "https://localhost:8080/",
          "height": 609
        },
        "id": "CT_dXGvOIUW-",
        "outputId": "908dd0d8-6c4b-4375-a50b-b42175db5ef2"
      },
      "outputs": [
        {
          "output_type": "display_data",
          "data": {
            "text/plain": [
              "<Figure size 1000x600 with 1 Axes>"
            ],
            "image/png": "[encoded data removed]"
          },
          "metadata": {}
        }
      ],
      "source": [
        "df['Weight'].hist(bins=15, figsize=(10,6))\n",
        "plt.suptitle('Weight distribution of MLB Players')\n",
        "plt.xlabel('Weight')\n",
        "plt.ylabel('Count')\n",
        "plt.tight_layout()\n",
        "plt.show()"
      ]
    },
    {
      "cell_type": "markdown",
      "metadata": {
        "id": "i5Ml9GbUIUW-"
      },
      "source": [
        "## Normal Distribution\n",
        "\n",
        "Let's create an artificial sample of weights that follows a normal distribution with the same mean and variance as our real data:"
      ]
    },
    {
      "cell_type": "code",
      "execution_count": 12,
      "metadata": {
        "colab": {
          "base_uri": "https://localhost:8080/"
        },
        "id": "eQ2vZ_EDIUW-",
        "outputId": "5ba7d226-cdf5-45f4-dbbb-24ecb391fe79"
      },
      "outputs": [
        {
          "output_type": "execute_result",
          "data": {
            "text/plain": [
              "array([71.28129096, 78.82173271, 71.81954911, 72.27705699, 68.09917695,\n",
              "       74.42089598, 72.63965744, 67.52063996, 73.40784061, 75.4298678 ,\n",
              "       76.53090645, 75.62114278, 75.93431985, 74.11904376, 76.31097626,\n",
              "       76.68590245, 73.03769741, 72.48497214, 75.89118176, 74.65380817])"
            ]
          },
          "metadata": {},
          "execution_count": 12
        }
      ],
      "source": [
        "generated = np.random.normal(mean, std, 1000)\n",
        "generated[:20]"
      ]
    },
    {
      "cell_type": "code",
      "execution_count": 13,
      "metadata": {
        "colab": {
          "base_uri": "https://localhost:8080/",
          "height": 607
        },
        "id": "d-RNVGrJIUW_",
        "outputId": "d1b62c49-6705-4409-ef44-39497de7e714"
      },
      "outputs": [
        {
          "output_type": "display_data",
          "data": {
            "text/plain": [
              "<Figure size 1000x600 with 1 Axes>"
            ],
            "image/png": "[encoded data removed]"
          },
          "metadata": {}
        }
      ],
      "source": [
        "plt.figure(figsize=(10,6))\n",
        "plt.hist(generated, bins=15)\n",
        "plt.tight_layout()\n",
        "plt.show()"
      ]
    },
    {
      "cell_type": "code",
      "execution_count": 14,
      "metadata": {
        "colab": {
          "base_uri": "https://localhost:8080/",
          "height": 607
        },
        "id": "GVs0ZaObIUW_",
        "outputId": "a4782bf2-20de-4c82-e78b-b31457ecd3dd"
      },
      "outputs": [
        {
          "output_type": "display_data",
          "data": {
            "text/plain": [
              "<Figure size 1000x600 with 1 Axes>"
            ],
            "image/png": "[encoded data removed]"
          },
          "metadata": {}
        }
      ],
      "source": [
        "plt.figure(figsize=(10,6))\n",
        "plt.hist(np.random.normal(0,1,50000), bins=300)\n",
        "plt.tight_layout()\n",
        "plt.show()"
      ]
    },
    {
      "cell_type": "markdown",
      "metadata": {
        "id": "zHP_chikIUXA"
      },
      "source": [
        "Since most values in real life are normally distributed, we should not use a uniform random number generator to generate sample data. Here is what happens if we try to generate weights with a uniform distribution (generated by `np.random.rand`):"
      ]
    },
    {
      "cell_type": "code",
      "execution_count": 15,
      "metadata": {
        "colab": {
          "base_uri": "https://localhost:8080/",
          "height": 607
        },
        "id": "gMGaiMfAIUXA",
        "outputId": "a0fe0623-07db-49f2-dc36-c36e7cc3e913"
      },
      "outputs": [
        {
          "output_type": "display_data",
          "data": {
            "text/plain": [
              "<Figure size 1000x600 with 1 Axes>"
            ],
            "image/png": "[encoded data removed]"
          },
          "metadata": {}
        }
      ],
      "source": [
        "wrong_sample = np.random.rand(1000)*2*std+mean-std\n",
        "plt.figure(figsize=(10,6))\n",
        "plt.hist(wrong_sample)\n",
        "plt.tight_layout()\n",
        "plt.show()"
      ]
    },
    {
      "cell_type": "markdown",
      "metadata": {
        "id": "uNEzv4urIUXA"
      },
      "source": [
        "## Confidence Intervals\n",
        "\n",
        "Let's now calculate confidence intervals for the weights and heights of baseball players. We will use the code [from this stackoverflow discussion](https://stackoverflow.com/questions/15033511/compute-a-confidence-interval-from-sample-data):"
      ]
    },
    {
      "cell_type": "code",
      "execution_count": 16,
      "metadata": {
        "colab": {
          "base_uri": "https://localhost:8080/"
        },
        "id": "P7h0LFCsIUXA",
        "outputId": "7346caf5-0f58-4130-e0de-7dc9c67ab99e"
      },
      "outputs": [
        {
          "output_type": "stream",
          "name": "stdout",
          "text": [
            "p=0.85, mean = 201.73 ± 0.94\n",
            "p=0.90, mean = 201.73 ± 1.08\n",
            "p=0.95, mean = 201.73 ± 1.28\n"
          ]
        }
      ],
      "source": [
        "import scipy.stats\n",
        "\n",
        "def mean_confidence_interval(data, confidence=0.95):\n",
        "    a = 1.0 * np.array(data)\n",
        "    n = len(a)\n",
        "    m, se = np.mean(a), scipy.stats.sem(a)\n",
        "    h = se * scipy.stats.t.ppf((1 + confidence) / 2., n-1)\n",
        "    return m, h\n",
        "\n",
        "for p in [0.85, 0.9, 0.95]:\n",
        "    m, h = mean_confidence_interval(df['Weight'].fillna(method='pad'),p)\n",
        "    print(f\"p={p:.2f}, mean = {m:.2f} ± {h:.2f}\")"
      ]
    },
    {
      "cell_type": "markdown",
      "metadata": {
        "id": "zMAi2cz6IUXB"
      },
      "source": [
        "## Hypothesis Testing\n",
        "\n",
        "Let's explore different roles in our baseball players dataset:"
      ]
    },
    {
      "cell_type": "code",
      "execution_count": 17,
      "metadata": {
        "colab": {
          "base_uri": "https://localhost:8080/",
          "height": 363
        },
        "id": "1fsnjUkFIUXC",
        "outputId": "9359d40f-c575-461d-e678-0f6ea1ef2f63"
      },
      "outputs": [
        {
          "output_type": "execute_result",
          "data": {
            "text/plain": [
              "                      Height      Weight  Count\n",
              "Role                                           \n",
              "Catcher            72.723684  204.328947     76\n",
              "Designated_Hitter  74.222222  220.888889     18\n",
              "First_Baseman      74.000000  213.109091     55\n",
              "Outfielder         73.010309  199.113402    194\n",
              "Relief_Pitcher     74.374603  203.517460    315\n",
              "Second_Baseman     71.362069  184.344828     58\n",
              "Shortstop          71.903846  182.923077     52\n",
              "Starting_Pitcher   74.719457  205.163636    221\n",
              "Third_Baseman      73.044444  200.955556     45"
            ],
            "text/html": [
              "\n",
              "  <div id=\"df-7c0fd5ce-2c2d-4495-b103-149bf7943e27\" class=\"colab-df-container\">\n",
              "    <div>\n",
              "<style scoped>\n",
              "    .dataframe tbody tr th:only-of-type {\n",
              "        vertical-align: middle;\n",
              "    }\n",
              "\n",
              "    .dataframe tbody tr th {\n",
              "        vertical-align: top;\n",
              "    }\n",
              "\n",
              "    .dataframe thead th {\n",
              "        text-align: right;\n",
              "    }\n",
              "</style>\n",
              "<table border=\"1\" class=\"dataframe\">\n",
              "  <thead>\n",
              "    <tr style=\"text-align: right;\">\n",
              "      <th></th>\n",
              "      <th>Height</th>\n",
              "      <th>Weight</th>\n",
              "      <th>Count</th>\n",
              "    </tr>\n",
              "    <tr>\n",
              "      <th>Role</th>\n",
              "      <th></th>\n",
              "      <th></th>\n",
              "      <th></th>\n",
              "    </tr>\n",
              "  </thead>\n",
              "  <tbody>\n",
              "    <tr>\n",
              "      <th>Catcher</th>\n",
              "      <td>72.723684</td>\n",
              "      <td>204.328947</td>\n",
              "      <td>76</td>\n",
              "    </tr>\n",
              "    <tr>\n",
              "      <th>Designated_Hitter</th>\n",
              "      <td>74.222222</td>\n",
              "      <td>220.888889</td>\n",
              "      <td>18</td>\n",
              "    </tr>\n",
              "    <tr>\n",
              "      <th>First_Baseman</th>\n",
              "      <td>74.000000</td>\n",
              "      <td>213.109091</td>\n",
              "      <td>55</td>\n",
              "    </tr>\n",
              "    <tr>\n",
              "      <th>Outfielder</th>\n",
              "      <td>73.010309</td>\n",
              "      <td>199.113402</td>\n",
              "      <td>194</td>\n",
              "    </tr>\n",
              "    <tr>\n",
              "      <th>Relief_Pitcher</th>\n",
              "      <td>74.374603</td>\n",
              "      <td>203.517460</td>\n",
              "      <td>315</td>\n",
              "    </tr>\n",
              "    <tr>\n",
              "      <th>Second_Baseman</th>\n",
              "      <td>71.362069</td>\n",
              "      <td>184.344828</td>\n",
              "      <td>58</td>\n",
              "    </tr>\n",
              "    <tr>\n",
              "      <th>Shortstop</th>\n",
              "      <td>71.903846</td>\n",
              "      <td>182.923077</td>\n",
              "      <td>52</td>\n",
              "    </tr>\n",
              "    <tr>\n",
              "      <th>Starting_Pitcher</th>\n",
              "      <td>74.719457</td>\n",
              "      <td>205.163636</td>\n",
              "      <td>221</td>\n",
              "    </tr>\n",
              "    <tr>\n",
              "      <th>Third_Baseman</th>\n",
              "      <td>73.044444</td>\n",
              "      <td>200.955556</td>\n",
              "      <td>45</td>\n",
              "    </tr>\n",
              "  </tbody>\n",
              "</table>\n",
              "</div>\n",
              "    <div class=\"colab-df-buttons\">\n",
              "\n",
              "  <div class=\"colab-df-container\">\n",
              "    <button class=\"colab-df-convert\" onclick=\"convertToInteractive('df-7c0fd5ce-2c2d-4495-b103-149bf7943e27')\"\n",
              "            title=\"Convert this dataframe to an interactive table.\"\n",
              "            style=\"display:none;\">\n",
              "\n",
              "  <svg xmlns=\"http://www.w3.org/2000/svg\" height=\"24px\" viewBox=\"0 -960 960 960\">\n",
              "    <path d=\"M120-120v-720h720v720H120Zm60-500h600v-160H180v160Zm220 220h160v-160H400v160Zm0 220h160v-160H400v160ZM180-400h160v-160H180v160Zm440 0h160v-160H620v160ZM180-180h160v-160H180v160Zm440 0h160v-160H620v160Z\"/>\n",
              "  </svg>\n",
              "    </button>\n",
              "\n",
              "  <style>\n",
              "    .colab-df-container {\n",
              "      display:flex;\n",
              "      gap: 12px;\n",
              "    }\n",
              "\n",
              "    .colab-df-convert {\n",
              "      background-color: #E8F0FE;\n",
              "      border: none;\n",
              "      border-radius: 50%;\n",
              "      cursor: pointer;\n",
              "      display: none;\n",
              "      fill: #1967D2;\n",
              "      height: 32px;\n",
              "      padding: 0 0 0 0;\n",
              "      width: 32px;\n",
              "    }\n",
              "\n",
              "    .colab-df-convert:hover {\n",
              "      background-color: #E2EBFA;\n",
              "      box-shadow: 0px 1px 2px rgba(60, 64, 67, 0.3), 0px 1px 3px 1px rgba(60, 64, 67, 0.15);\n",
              "      fill: #174EA6;\n",
              "    }\n",
              "\n",
              "    .colab-df-buttons div {\n",
              "      margin-bottom: 4px;\n",
              "    }\n",
              "\n",
              "    [theme=dark] .colab-df-convert {\n",
              "      background-color: #3B4455;\n",
              "      fill: #D2E3FC;\n",
              "    }\n",
              "\n",
              "    [theme=dark] .colab-df-convert:hover {\n",
              "      background-color: #434B5C;\n",
              "      box-shadow: 0px 1px 3px 1px rgba(0, 0, 0, 0.15);\n",
              "      filter: drop-shadow(0px 1px 2px rgba(0, 0, 0, 0.3));\n",
              "      fill: #FFFFFF;\n",
              "    }\n",
              "  </style>\n",
              "\n",
              "    <script>\n",
              "      const buttonEl =\n",
              "        document.querySelector('#df-7c0fd5ce-2c2d-4495-b103-149bf7943e27 button.colab-df-convert');\n",
              "      buttonEl.style.display =\n",
              "        google.colab.kernel.accessAllowed ? 'block' : 'none';\n",
              "\n",
              "      async function convertToInteractive(key) {\n",
              "        const element = document.querySelector('#df-7c0fd5ce-2c2d-4495-b103-149bf7943e27');\n",
              "        const dataTable =\n",
              "          await google.colab.kernel.invokeFunction('convertToInteractive',\n",
              "                                                    [key], {});\n",
              "        if (!dataTable) return;\n",
              "\n",
              "        const docLinkHtml = 'Like what you see? Visit the ' +\n",
              "          '<a target=\"_blank\" href=https://colab.research.google.com/notebooks/data_table.ipynb>data table notebook</a>'\n",
              "          + ' to learn more about interactive tables.';\n",
              "        element.innerHTML = '';\n",
              "        dataTable['output_type'] = 'display_data';\n",
              "        await google.colab.output.renderOutput(dataTable, element);\n",
              "        const docLink = document.createElement('div');\n",
              "        docLink.innerHTML = docLinkHtml;\n",
              "        element.appendChild(docLink);\n",
              "      }\n",
              "    </script>\n",
              "  </div>\n",
              "\n",
              "\n",
              "<div id=\"df-7a3e3597-42d1-47ed-a13e-a721bc83ada2\">\n",
              "  <button class=\"colab-df-quickchart\" onclick=\"quickchart('df-7a3e3597-42d1-47ed-a13e-a721bc83ada2')\"\n",
              "            title=\"Suggest charts.\"\n",
              "            style=\"display:none;\">\n",
              "\n",
              "<svg xmlns=\"http://www.w3.org/2000/svg\" height=\"24px\"viewBox=\"0 0 24 24\"\n",
              "     width=\"24px\">\n",
              "    <g>\n",
              "        <path d=\"M19 3H5c-1.1 0-2 .9-2 2v14c0 1.1.9 2 2 2h14c1.1 0 2-.9 2-2V5c0-1.1-.9-2-2-2zM9 17H7v-7h2v7zm4 0h-2V7h2v10zm4 0h-2v-4h2v4z\"/>\n",
              "    </g>\n",
              "</svg>\n",
              "  </button>\n",
              "\n",
              "<style>\n",
              "  .colab-df-quickchart {\n",
              "      --bg-color: #E8F0FE;\n",
              "      --fill-color: #1967D2;\n",
              "      --hover-bg-color: #E2EBFA;\n",
              "      --hover-fill-color: #174EA6;\n",
              "      --disabled-fill-color: #AAA;\n",
              "      --disabled-bg-color: #DDD;\n",
              "  }\n",
              "\n",
              "  [theme=dark] .colab-df-quickchart {\n",
              "      --bg-color: #3B4455;\n",
              "      --fill-color: #D2E3FC;\n",
              "      --hover-bg-color: #434B5C;\n",
              "      --hover-fill-color: #FFFFFF;\n",
              "      --disabled-bg-color: #3B4455;\n",
              "      --disabled-fill-color: #666;\n",
              "  }\n",
              "\n",
              "  .colab-df-quickchart {\n",
              "    background-color: var(--bg-color);\n",
              "    border: none;\n",
              "    border-radius: 50%;\n",
              "    cursor: pointer;\n",
              "    display: none;\n",
              "    fill: var(--fill-color);\n",
              "    height: 32px;\n",
              "    padding: 0;\n",
              "    width: 32px;\n",
              "  }\n",
              "\n",
              "  .colab-df-quickchart:hover {\n",
              "    background-color: var(--hover-bg-color);\n",
              "    box-shadow: 0 1px 2px rgba(60, 64, 67, 0.3), 0 1px 3px 1px rgba(60, 64, 67, 0.15);\n",
              "    fill: var(--button-hover-fill-color);\n",
              "  }\n",
              "\n",
              "  .colab-df-quickchart-complete:disabled,\n",
              "  .colab-df-quickchart-complete:disabled:hover {\n",
              "    background-color: var(--disabled-bg-color);\n",
              "    fill: var(--disabled-fill-color);\n",
              "    box-shadow: none;\n",
              "  }\n",
              "\n",
              "  .colab-df-spinner {\n",
              "    border: 2px solid var(--fill-color);\n",
              "    border-color: transparent;\n",
              "    border-bottom-color: var(--fill-color);\n",
              "    animation:\n",
              "      spin 1s steps(1) infinite;\n",
              "  }\n",
              "\n",
              "  @keyframes spin {\n",
              "    0% {\n",
              "      border-color: transparent;\n",
              "      border-bottom-color: var(--fill-color);\n",
              "      border-left-color: var(--fill-color);\n",
              "    }\n",
              "    20% {\n",
              "      border-color: transparent;\n",
              "      border-left-color: var(--fill-color);\n",
              "      border-top-color: var(--fill-color);\n",
              "    }\n",
              "    30% {\n",
              "      border-color: transparent;\n",
              "      border-left-color: var(--fill-color);\n",
              "      border-top-color: var(--fill-color);\n",
              "      border-right-color: var(--fill-color);\n",
              "    }\n",
              "    40% {\n",
              "      border-color: transparent;\n",
              "      border-right-color: var(--fill-color);\n",
              "      border-top-color: var(--fill-color);\n",
              "    }\n",
              "    60% {\n",
              "      border-color: transparent;\n",
              "      border-right-color: var(--fill-color);\n",
              "    }\n",
              "    80% {\n",
              "      border-color: transparent;\n",
              "      border-right-color: var(--fill-color);\n",
              "      border-bottom-color: var(--fill-color);\n",
              "    }\n",
              "    90% {\n",
              "      border-color: transparent;\n",
              "      border-bottom-color: var(--fill-color);\n",
              "    }\n",
              "  }\n",
              "</style>\n",
              "\n",
              "  <script>\n",
              "    async function quickchart(key) {\n",
              "      const quickchartButtonEl =\n",
              "        document.querySelector('#' + key + ' button');\n",
              "      quickchartButtonEl.disabled = true;  // To prevent multiple clicks.\n",
              "      quickchartButtonEl.classList.add('colab-df-spinner');\n",
              "      try {\n",
              "        const charts = await google.colab.kernel.invokeFunction(\n",
              "            'suggestCharts', [key], {});\n",
              "      } catch (error) {\n",
              "        console.error('Error during call to suggestCharts:', error);\n",
              "      }\n",
              "      quickchartButtonEl.classList.remove('colab-df-spinner');\n",
              "      quickchartButtonEl.classList.add('colab-df-quickchart-complete');\n",
              "    }\n",
              "    (() => {\n",
              "      let quickchartButtonEl =\n",
              "        document.querySelector('#df-7a3e3597-42d1-47ed-a13e-a721bc83ada2 button');\n",
              "      quickchartButtonEl.style.display =\n",
              "        google.colab.kernel.accessAllowed ? 'block' : 'none';\n",
              "    })();\n",
              "  </script>\n",
              "</div>\n",
              "    </div>\n",
              "  </div>\n"
            ]
          },
          "metadata": {},
          "execution_count": 17
        }
      ],
      "source": [
        "df.groupby('Role').agg({ 'Height' : 'mean', 'Weight' : 'mean', 'Age' : 'count'}).rename(columns={ 'Age' : 'Count'})"
      ]
    },
    {
      "cell_type": "markdown",
      "metadata": {
        "id": "O3H--SzfIUXC"
      },
      "source": [
        "Let's test the hypothesis that First Basemen are taller than Second Basemen. The simplest way to do this is to test the confidence intervals:"
      ]
    },
    {
      "cell_type": "code",
      "execution_count": 18,
      "metadata": {
        "colab": {
          "base_uri": "https://localhost:8080/"
        },
        "id": "XsO80SsfIUXC",
        "outputId": "424f53ff-729b-4f21-addf-ecca08d4fb04"
      },
      "outputs": [
        {
          "output_type": "stream",
          "name": "stdout",
          "text": [
            "Conf=0.85, 1st basemen height: 73.62..74.38, 2nd basemen height: 71.04..71.69\n",
            "Conf=0.90, 1st basemen height: 73.56..74.44, 2nd basemen height: 70.99..71.73\n",
            "Conf=0.95, 1st basemen height: 73.47..74.53, 2nd basemen height: 70.92..71.81\n"
          ]
        }
      ],
      "source": [
        "for p in [0.85,0.9,0.95]:\n",
        "    m1, h1 = mean_confidence_interval(df.loc[df['Role']=='First_Baseman',['Height']],p)\n",
        "    m2, h2 = mean_confidence_interval(df.loc[df['Role']=='Second_Baseman',['Height']],p)\n",
        "    print(f'Conf={p:.2f}, 1st basemen height: {m1-h1[0]:.2f}..{m1+h1[0]:.2f}, 2nd basemen height: {m2-h2[0]:.2f}..{m2+h2[0]:.2f}')"
      ]
    },
    {
      "cell_type": "markdown",
      "metadata": {
        "id": "b8DU4ZUGIUXD"
      },
      "source": [
        "We can see that the intervals do not overlap.\n",
        "\n",
        "A statistically more correct way to prove the hypothesis is to use a **Student t-test**:"
      ]
    },
    {
      "cell_type": "code",
      "execution_count": 19,
      "metadata": {
        "colab": {
          "base_uri": "https://localhost:8080/"
        },
        "id": "Qwra5Iz7IUXD",
        "outputId": "2d5f359b-5707-4ce0-9c95-ef8d7ca8b791"
      },
      "outputs": [
        {
          "output_type": "stream",
          "name": "stdout",
          "text": [
            "T-value = 7.65\n",
            "P-value: 9.137321189738959e-12\n"
          ]
        }
      ],
      "source": [
        "from scipy.stats import ttest_ind\n",
        "\n",
        "tval, pval = ttest_ind(df.loc[df['Role']=='First_Baseman',['Height']], df.loc[df['Role']=='Second_Baseman',['Height']],equal_var=False)\n",
        "print(f\"T-value = {tval[0]:.2f}\\nP-value: {pval[0]}\")"
      ]
    },
    {
      "cell_type": "markdown",
      "metadata": {
        "id": "brelF-6LIUXE"
      },
      "source": [
        "The two values returned by the `ttest_ind` function are:\n",
        "* p-value can be considered as the probability of two distributions having the same mean. In our case, it is very low, meaning that there is strong evidence supporting that first basemen are taller.\n",
        "* t-value is the intermediate value of normalized mean difference that is used in the t-test, and it is compared against a threshold value for a given confidence value."
      ]
    },
    {
      "cell_type": "markdown",
      "metadata": {
        "id": "CtPClLpDIUXE"
      },
      "source": [
        "## Simulating a Normal Distribution with the Central Limit Theorem\n",
        "\n",
        "The pseudo-random generator in Python is designed to give us a uniform distribution. If we want to create a generator for normal distribution, we can use the central limit theorem. To get a normally distributed value we will just compute a mean of a uniform-generated sample."
      ]
    },
    {
      "cell_type": "code",
      "execution_count": 20,
      "metadata": {
        "colab": {
          "base_uri": "https://localhost:8080/",
          "height": 606
        },
        "id": "0vSxU_l1IUXF",
        "outputId": "f4ae9bbd-95da-4f70-ca9f-740e8e382bbd"
      },
      "outputs": [
        {
          "output_type": "display_data",
          "data": {
            "text/plain": [
              "<Figure size 1000x600 with 1 Axes>"
            ],
            "image/png": "[encoded data removed]"
          },
          "metadata": {}
        }
      ],
      "source": [
        "def normal_random(sample_size=100):\n",
        "    sample = [random.uniform(0,1) for _ in range(sample_size) ]\n",
        "    return sum(sample)/sample_size\n",
        "\n",
        "sample = [normal_random() for _ in range(100)]\n",
        "plt.figure(figsize=(10,6))\n",
        "plt.hist(sample)\n",
        "plt.tight_layout()\n",
        "plt.show()"
      ]
    },
    {
      "cell_type": "markdown",
      "metadata": {
        "id": "rdUV9KxXIUXF"
      },
      "source": [
        "## Correlation and Evil Baseball Corp\n",
        "\n",
        "Correlation allows us to find relations between data sequences. In our toy example, let's pretend there is an evil baseball corporation that pays its players according to their height - the taller the player is, the more money he/she gets. Suppose there is a base salary of $1000, and an additional bonus from $0 to $100, depending on height. We will take the real players from MLB, and compute their imaginary salaries:"
      ]
    },
    {
      "cell_type": "code",
      "execution_count": 21,
      "metadata": {
        "colab": {
          "base_uri": "https://localhost:8080/"
        },
        "id": "oNlWGq_VIUXF",
        "outputId": "4bc2c9a7-cf4b-4d0b-e87c-dfe7a7fd08e9"
      },
      "outputs": [
        {
          "output_type": "stream",
          "name": "stdout",
          "text": [
            "[(74, 1075.2469071629068), (74, 1075.2469071629068), (72, 1053.7477908306478), (72, 1053.7477908306478), (73, 1064.4973489967772), (69, 1021.4991163322591), (69, 1021.4991163322591), (71, 1042.9982326645181), (76, 1096.746023495166), (71, 1042.9982326645181)]\n"
          ]
        }
      ],
      "source": [
        "heights = df['Height']\n",
        "salaries = 1000+(heights-heights.min())/(heights.max()-heights.mean())*100\n",
        "print(list(zip(heights, salaries))[:10])"
      ]
    },
    {
      "cell_type": "markdown",
      "metadata": {
        "id": "F5FZaXFAIUXG"
      },
      "source": [
        "Let's now compute covariance and correlation of those sequences. `np.cov` will give us a so-called **covariance matrix**, which is an extension of covariance to multiple variables. The element $M_{ij}$ of the covariance matrix $M$ is a correlation between input variables $X_i$ and $X_j$, and diagonal values $M_{ii}$ is the variance of $X_{i}$. Similarly, `np.corrcoef` will give us the **correlation matrix**."
      ]
    },
    {
      "cell_type": "code",
      "execution_count": 22,
      "metadata": {
        "colab": {
          "base_uri": "https://localhost:8080/"
        },
        "id": "Oux7B-KfIUXG",
        "outputId": "f115362b-63d9-48b8-caee-f348c86bb40a"
      },
      "outputs": [
        {
          "output_type": "stream",
          "name": "stdout",
          "text": [
            "Covariance matrix:\n",
            "[[  5.31679808  57.15323023]\n",
            " [ 57.15323023 614.37197275]]\n",
            "Covariance = 57.1532302305447\n",
            "Correlation = 1.0\n"
          ]
        }
      ],
      "source": [
        "print(f\"Covariance matrix:\\n{np.cov(heights, salaries)}\")\n",
        "print(f\"Covariance = {np.cov(heights, salaries)[0,1]}\")\n",
        "print(f\"Correlation = {np.corrcoef(heights, salaries)[0,1]}\")"
      ]
    },
    {
      "cell_type": "markdown",
      "metadata": {
        "id": "JV8ZTH1rIUXG"
      },
      "source": [
        "A correlation equal to 1 means that there is a strong **linear relation** between two variables. We can visually see the linear relation by plotting one value against the other:"
      ]
    },
    {
      "cell_type": "code",
      "execution_count": 23,
      "metadata": {
        "colab": {
          "base_uri": "https://localhost:8080/",
          "height": 607
        },
        "id": "Sz9DY39RIUXH",
        "outputId": "ef9fbd38-1b0f-41d0-f7c6-d385fcffe94f"
      },
      "outputs": [
        {
          "output_type": "display_data",
          "data": {
            "text/plain": [
              "<Figure size 1000x600 with 1 Axes>"
            ],
            "image/png": "[encoded data removed]"
          },
          "metadata": {}
        }
      ],
      "source": [
        "plt.figure(figsize=(10,6))\n",
        "plt.scatter(heights,salaries)\n",
        "plt.tight_layout()\n",
        "plt.show()"
      ]
    },
    {
      "cell_type": "markdown",
      "metadata": {
        "id": "1n-bXVOYIUXH"
      },
      "source": [
        "Let's see what happens if the relation is not linear. Suppose that our corporation decided to hide the obvious linear dependency between heights and salaries, and introduced some non-linearity into the formula, such as `sin`:"
      ]
    },
    {
      "cell_type": "code",
      "execution_count": 24,
      "metadata": {
        "colab": {
          "base_uri": "https://localhost:8080/"
        },
        "id": "sdS7DPgcIUXH",
        "outputId": "97f0efaf-ef7a-4b8d-95a9-b01d4c917c4f"
      },
      "outputs": [
        {
          "output_type": "stream",
          "name": "stdout",
          "text": [
            "Correlation = 0.9835304456670827\n"
          ]
        }
      ],
      "source": [
        "salaries = 1000+np.sin((heights-heights.min())/(heights.max()-heights.mean()))*100\n",
        "print(f\"Correlation = {np.corrcoef(heights, salaries)[0,1]}\")"
      ]
    },
    {
      "cell_type": "markdown",
      "metadata": {
        "id": "gtPLXZGzIUXI"
      },
      "source": [
        "In this case, the correlation is slightly smaller, but it is still quite high. Now, to make the relation even less obvious, we might want to add some extra randomness by adding some random variable to the salary. Let's see what happens:"
      ]
    },
    {
      "cell_type": "code",
      "execution_count": 25,
      "metadata": {
        "colab": {
          "base_uri": "https://localhost:8080/"
        },
        "id": "gYKdvnQYIUXI",
        "outputId": "51359d22-9747-4bdd-e08a-3cf388ac5258"
      },
      "outputs": [
        {
          "output_type": "stream",
          "name": "stdout",
          "text": [
            "Correlation = 0.9332592309527241\n"
          ]
        }
      ],
      "source": [
        "salaries = 1000+np.sin((heights-heights.min())/(heights.max()-heights.mean()))*100+np.random.random(size=len(heights))*20-10\n",
        "print(f\"Correlation = {np.corrcoef(heights, salaries)[0,1]}\")"
      ]
    },
    {
      "cell_type": "code",
      "execution_count": 26,
      "metadata": {
        "colab": {
          "base_uri": "https://localhost:8080/",
          "height": 607
        },
        "id": "-ZYLE3UAIUXJ",
        "outputId": "fb604472-ce5b-4f77-c407-6f69de3f9cc5"
      },
      "outputs": [
        {
          "output_type": "display_data",
          "data": {
            "text/plain": [
              "<Figure size 1000x600 with 1 Axes>"
            ],
            "image/png": "[encoded data removed]"
          },
          "metadata": {}
        }
      ],
      "source": [
        "plt.figure(figsize=(10,6))\n",
        "plt.scatter(heights, salaries)\n",
        "plt.tight_layout()\n",
        "plt.show()"
      ]
    },
    {
      "cell_type": "markdown",
      "metadata": {
        "id": "U_hRjJkMIUXJ"
      },
      "source": [
        "> Can you guess why the dots line up into vertical lines like this?\n",
        "\n",
        "We have observed the correlation between an artificially engineered concept like salary and the observed variable *height*. Let's also see if the two observed variables, such as height and weight, correlate too:"
      ]
    },
    {
      "cell_type": "code",
      "execution_count": 27,
      "metadata": {
        "colab": {
          "base_uri": "https://localhost:8080/"
        },
        "id": "ba1ty3GoIUXK",
        "outputId": "56ecb028-8d9a-4777-b028-e72fc2028498"
      },
      "outputs": [
        {
          "output_type": "execute_result",
          "data": {
            "text/plain": [
              "array([[ 1., nan],\n",
              "       [nan, nan]])"
            ]
          },
          "metadata": {},
          "execution_count": 27
        }
      ],
      "source": [
        "np.corrcoef(df['Height'],df['Weight'])"
      ]
    },
    {
      "cell_type": "markdown",
      "metadata": {
        "id": "0o3CEkTHIUXL"
      },
      "source": [
        "Unfortunately, we did not get any results - only some strange `nan` values. This is due to the fact that some of the values in our series are undefined, represented as `nan`, which causes the result of the operation to be undefined as well. By looking at the matrix we can see that `Weight` is the problematic column, because self-correlation between `Height` values has been computed.\n",
        "\n",
        "> This example shows the importance of **data preparation** and **cleaning**. Without proper data we cannot compute anything.\n",
        "\n",
        "Let's use `fillna` method to fill the missing values, and compute the correlation:"
      ]
    },
    {
      "cell_type": "code",
      "execution_count": 28,
      "metadata": {
        "colab": {
          "base_uri": "https://localhost:8080/"
        },
        "id": "C1wzEgHGIUXM",
        "outputId": "f953f94a-e9d6-41a3-e53f-7c5a72e38f8c"
      },
      "outputs": [
        {
          "output_type": "execute_result",
          "data": {
            "text/plain": [
              "array([[1.        , 0.52959196],\n",
              "       [0.52959196, 1.        ]])"
            ]
          },
          "metadata": {},
          "execution_count": 28
        }
      ],
      "source": [
        "np.corrcoef(df['Height'],df['Weight'].fillna(method='pad'))"
      ]
    },
    {
      "cell_type": "markdown",
      "metadata": {
        "id": "59HPAOScIUXM"
      },
      "source": [
        "There is indeed a correlation, but not such a strong one as in our artificial example. Indeed, if we look at the scatter plot of one value against the other, the relation would be much less obvious:"
      ]
    },
    {
      "cell_type": "code",
      "execution_count": 29,
      "metadata": {
        "colab": {
          "base_uri": "https://localhost:8080/",
          "height": 607
        },
        "id": "LR27XJe9IUXM",
        "outputId": "a1d4bb37-9c83-49b3-b299-d8b8bc365fd6"
      },
      "outputs": [
        {
          "output_type": "display_data",
          "data": {
            "text/plain": [
              "<Figure size 1000x600 with 1 Axes>"
            ],
            "image/png": "[encoded data removed]"
          },
          "metadata": {}
        }
      ],
      "source": [
        "plt.figure(figsize=(10,6))\n",
        "plt.scatter(df['Height'],df['Weight'])\n",
        "plt.xlabel('Height')\n",
        "plt.ylabel('Weight')\n",
        "plt.tight_layout()\n",
        "plt.show()"
      ]
    },
    {
      "cell_type": "markdown",
      "metadata": {
        "id": "O-i0GjqIIUXM"
      },
      "source": [
        "## Conclusion\n",
        "\n",
        "In this notebook we have learnt how to perform basic operations on data to compute statistical functions. We now know how to use a sound apparatus of math and statistics in order to prove some hypotheses, and how to compute confidence intervals for arbitrary variables given a data sample."
      ]
    },
    {
      "cell_type": "markdown",
      "source": [
        "## Challenge\n"
      ],
      "metadata": {
        "id": "z9YubMYAuAG7"
      }
    },
    {
      "cell_type": "markdown",
      "source": [
        "Use the sample code in the notebook to test other hypothesis that:\n",
        "\n",
        "1. First basemen are older than second basemen\n",
        "2. First basemen are taller than third basemen\n",
        "3. Shortstops are taller than second basemen\n"
      ],
      "metadata": {
        "id": "q0cxF4-2uQg5"
      }
    },
    {
      "cell_type": "markdown",
      "source": [
        "### First basemen are older than second basemen"
      ],
      "metadata": {
        "id": "eqa9jPuIuWrz"
      }
    },
    {
      "cell_type": "markdown",
      "source": [
        "Let's test the hypothesis that First Basemen are older than Second Basemen. The simplest way to do this is to test the confidence intervals:"
      ],
      "metadata": {
        "id": "sDiN7_wpvPaZ"
      }
    },
    {
      "cell_type": "code",
      "source": [
        "for p in [0.85,0.9,0.95]:\n",
        "    m1, h1 = mean_confidence_interval(df.loc[df['Role']=='First_Baseman',['Age']],p)\n",
        "    m2, h2 = mean_confidence_interval(df.loc[df['Role']=='Second_Baseman',['Age']],p)\n",
        "    print(f'Conf={p:.2f}, 1st basemen age: {m1-h1[0]:.2f}..{m1+h1[0]:.2f}, 2nd basemen age: {m2-h2[0]:.2f}..{m2+h2[0]:.2f}')"
      ],
      "metadata": {
        "id": "17SWW8n1uL-s",
        "outputId": "5a4a6929-c3f0-4257-b7b4-b7257d7e773b",
        "colab": {
          "base_uri": "https://localhost:8080/"
        }
      },
      "execution_count": 30,
      "outputs": [
        {
          "output_type": "stream",
          "name": "stdout",
          "text": [
            "Conf=0.85, 1st basemen age: 28.56..30.39, 2nd basemen age: 28.18..29.87\n",
            "Conf=0.90, 1st basemen age: 28.42..30.53, 2nd basemen age: 28.06..29.99\n",
            "Conf=0.95, 1st basemen age: 28.22..30.73, 2nd basemen age: 27.87..30.18\n"
          ]
        }
      ]
    },
    {
      "cell_type": "markdown",
      "source": [
        "We can see that the intervals do overlap.\n",
        "\n",
        "A statistically more correct way to prove the hypothesis is to use a **Student t-test**:\n"
      ],
      "metadata": {
        "id": "_kjnTN57voE1"
      }
    },
    {
      "cell_type": "code",
      "source": [
        "tval, pval = ttest_ind(df.loc[df['Role']=='First_Baseman',['Age']], df.loc[df['Role']=='Second_Baseman',['Age']],equal_var=False)\n",
        "print(f\"T-value = {tval[0]:.2f}\\nP-value: {pval[0]}\")"
      ],
      "metadata": {
        "id": "MHUMgyBGv1Wo",
        "outputId": "09f8e24e-6f67-4eaf-a6c1-f58260f31064",
        "colab": {
          "base_uri": "https://localhost:8080/"
        }
      },
      "execution_count": 31,
      "outputs": [
        {
          "output_type": "stream",
          "name": "stdout",
          "text": [
            "T-value = 0.53\n",
            "P-value: 0.6005513264471434\n"
          ]
        }
      ]
    },
    {
      "cell_type": "markdown",
      "source": [
        "\n",
        "\n",
        "* The p-value is the probability of obtaining a result at least as extreme as the one observed, assuming that the null hypothesis is true (p-value can be considered as the probability of two distributions having the same mean). In our case, the null hypothesis would be that there is no difference in ages between First basemen and second basemen of players. A p-value of 0.60 indicates that, assuming the null hypothesis is true, there is a 60% probability of obtaining a result at least as extreme as the one observed. In general, if the p-value is less than a predefined significance level (for example, 0.05), the null hypothesis is rejected and it is concluded that there is a significant difference between the groups. However, since your p-value is greater than 0.05, there is not enough evidence to reject the null hypothesis and conclude that there is a significant difference in ages between the two groups of players.\n"
      ],
      "metadata": {
        "id": "-Qx9SQL7wETA"
      }
    },
    {
      "cell_type": "markdown",
      "source": [
        "* The t-value is a statistic that measures the size of the difference between two groups in relation to the variation in the sample data. In other words, the t-value is simply the calculated difference represented in units of standard error. The larger the magnitude of the t-value, the greater the evidence against the null hypothesis.\n",
        "\n",
        "  In your case, if the t-value is equal to 0.53, this indicates that the difference between the two groups is not very large in relation to the variation in the sample data. A small t-value suggests that there is not enough evidence to reject the null hypothesis and conclude that there is a significant difference between the two groups."
      ],
      "metadata": {
        "id": "fVtApZXSy7-k"
      }
    },
    {
      "cell_type": "markdown",
      "source": [
        "### First basemen are taller than third basemen"
      ],
      "metadata": {
        "id": "5m3HHZvDzcch"
      }
    },
    {
      "cell_type": "markdown",
      "source": [
        "Let's test the hypothesis that First Basemen are taller than Third Basemen. The simplest way to do this is to test the confidence intervals:"
      ],
      "metadata": {
        "id": "THSfoe-r0BAn"
      }
    },
    {
      "cell_type": "code",
      "source": [
        "for p in [0.85,0.9,0.95]:\n",
        "    m1, h1 = mean_confidence_interval(df.loc[df['Role']=='First_Baseman',['Height']],p)\n",
        "    m3, h3 = mean_confidence_interval(df.loc[df['Role']=='Third_Baseman',['Height']],p)\n",
        "    print(f'Conf={p:.2f}, 1st basemen height: {m1-h1[0]:.2f}..{m1+h1[0]:.2f}, 3rd basemen height: {m3-h3[0]:.2f}..{m3+h3[0]:.2f}')"
      ],
      "metadata": {
        "id": "HtLzYWJ5v3KO",
        "outputId": "2b93373b-5669-4f67-ccf5-58fc8e611b8c",
        "colab": {
          "base_uri": "https://localhost:8080/"
        }
      },
      "execution_count": 32,
      "outputs": [
        {
          "output_type": "stream",
          "name": "stdout",
          "text": [
            "Conf=0.85, 1st basemen height: 73.62..74.38, 3rd basemen height: 72.58..73.51\n",
            "Conf=0.90, 1st basemen height: 73.56..74.44, 3rd basemen height: 72.51..73.58\n",
            "Conf=0.95, 1st basemen height: 73.47..74.53, 3rd basemen height: 72.40..73.68\n"
          ]
        }
      ]
    },
    {
      "cell_type": "markdown",
      "source": [
        "We can see that the intervals do not overlap.\n",
        "\n",
        "**student t-test**"
      ],
      "metadata": {
        "id": "WeSVWGn10FDZ"
      }
    },
    {
      "cell_type": "code",
      "source": [
        "tval, pval = ttest_ind(df.loc[df['Role']=='First_Baseman',['Height']], df.loc[df['Role']=='Third_Baseman',['Height']],equal_var=False)\n",
        "print(f\"T-value = {tval[0]:.2f}\\nP-value: {pval[0]}\")"
      ],
      "metadata": {
        "id": "j__x6Szdz67t",
        "outputId": "60441609-435f-40d5-bc1c-f446935f39ae",
        "colab": {
          "base_uri": "https://localhost:8080/"
        }
      },
      "execution_count": 37,
      "outputs": [
        {
          "output_type": "stream",
          "name": "stdout",
          "text": [
            "T-value = 2.32\n",
            "P-value: 0.02285634157510527\n"
          ]
        }
      ]
    },
    {
      "cell_type": "markdown",
      "source": [
        "\n",
        "\n",
        "* A t-value of 2.32 indicates that there is a moderate difference in heights between the two groups in relation to the variation in the sample data.\n",
        "* p-value of 0.023 indicates that, assuming the null hypothesis is true (i.e., that there is no difference in heights between the two groups), there is a 2.3% probability of obtaining a result at least as extreme as the one observed"
      ],
      "metadata": {
        "id": "RY5vm27t1IaE"
      }
    },
    {
      "cell_type": "markdown",
      "source": [
        "### Shortstops are taller than second basemen"
      ],
      "metadata": {
        "id": "DKbjAJeX1kIu"
      }
    },
    {
      "cell_type": "markdown",
      "source": [
        "the confidence intervals."
      ],
      "metadata": {
        "id": "d-Vwzkzw1p0W"
      }
    },
    {
      "cell_type": "code",
      "source": [
        "for p in [0.85,0.9,0.95]:\n",
        "    m1, h1 = mean_confidence_interval(df.loc[df['Role']=='Shortstop',['Height']],p)\n",
        "    m2, h2 = mean_confidence_interval(df.loc[df['Role']=='Second_Baseman',['Height']],p)\n",
        "    print(f'Conf={p:.2f}, Shortstop height: {m1-h1[0]:.2f}..{m1+h1[0]:.2f}, 2nd basemen height: {m2-h2[0]:.2f}..{m2+h2[0]:.2f}')"
      ],
      "metadata": {
        "id": "CtimHO1V0Zu1",
        "outputId": "abdb0d0c-5460-4e1e-b970-003f6ce30ad1",
        "colab": {
          "base_uri": "https://localhost:8080/"
        }
      },
      "execution_count": 36,
      "outputs": [
        {
          "output_type": "stream",
          "name": "stdout",
          "text": [
            "Conf=0.85, Shortstop height: 71.54..72.27, 2nd basemen height: 71.04..71.69\n",
            "Conf=0.90, Shortstop height: 71.49..72.32, 2nd basemen height: 70.99..71.73\n",
            "Conf=0.95, Shortstop height: 71.40..72.40, 2nd basemen height: 70.92..71.81\n"
          ]
        }
      ]
    },
    {
      "cell_type": "markdown",
      "source": [
        "We can see that the intervals do overlap.\n",
        "\n",
        "**student t-test**"
      ],
      "metadata": {
        "id": "7IiPnuFR2NRW"
      }
    },
    {
      "cell_type": "code",
      "source": [
        "tval, pval = ttest_ind(df.loc[df['Role']=='Shortstop',['Height']], df.loc[df['Role']=='Second_Baseman',['Height']],equal_var=False)\n",
        "print(f\"T-value = {tval[0]:.2f}\\nP-value: {pval[0]}\")"
      ],
      "metadata": {
        "id": "xWDTpnDI127B",
        "outputId": "ce861612-fb9b-4f23-9bbd-a43cae0657a0",
        "colab": {
          "base_uri": "https://localhost:8080/"
        }
      },
      "execution_count": 38,
      "outputs": [
        {
          "output_type": "stream",
          "name": "stdout",
          "text": [
            "T-value = 1.62\n",
            "P-value: 0.10763413630751067\n"
          ]
        }
      ]
    },
    {
      "cell_type": "markdown",
      "source": [
        "* A t-value of 1.62 indicates that there is a small difference in heights between the two groups in relation to the variation in the sample data.\n",
        "* A p-value of 0.10763413630751067 indicates that, assuming the null hypothesis is true (i.e., that there is no difference in heights between the two groups), there is a 10.76% probability of obtaining a result at least as extreme as the one observed."
      ],
      "metadata": {
        "id": "NE6XLRMX23qY"
      }
    }
  ],
  "metadata": {
    "interpreter": {
      "hash": "86193a1ab0ba47eac1c69c1756090baa3b420b3eea7d4aafab8b85f8b312f0c5"
    },
    "kernelspec": {
      "display_name": "Python 3 (ipykernel)",
      "language": "python",
      "name": "python3"
    },
    "language_info": {
      "codemirror_mode": {
        "name": "ipython",
        "version": 3
      },
      "file_extension": ".py",
      "mimetype": "text/x-python",
      "name": "python",
      "nbconvert_exporter": "python",
      "pygments_lexer": "ipython3",
      "version": "3.8.12"
    },
    "colab": {
      "provenance": [],
      "toc_visible": true,
      "include_colab_link": true
    }
  },
  "nbformat": 4,
  "nbformat_minor": 0
}